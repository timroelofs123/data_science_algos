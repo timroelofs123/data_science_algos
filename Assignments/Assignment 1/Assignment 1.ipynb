{
 "cells": [
  {
   "cell_type": "markdown",
   "metadata": {
    "slideshow": {
     "slide_type": "slide"
    }
   },
   "source": [
    "# Assignment 1 Group no. 10\n",
    "### Project members: \n",
    "Veronika Cucorova <cucorova@kth.se>\n",
    "Tim Roelofs <tjtro@kth.se>\n",
    "Léo Vuylsteker <leov@kth.se>\n",
    "\n",
    "### Declaration:\n",
    "By submitting this solution, it is hereby declared that all individuals listed above have contributed to the solution, either with code that appear in the final solution below, or with code that has been evaluated and compared to the final solution, but for some reason has been excluded. It is also declared that all project members fully understand all parts of the final solution and can explain it upon request.\n",
    "\n",
    "It is furthermore declared that the code below is a contribution by the project members only, and specifically that no part of the solution has been copied from any other source (except for lecture slides at the course ID2214) and no part of the solution has been provided by someone not listed as project member above.\n",
    "\n",
    "It is furthermore declared that it has been understood that no other library/package than the Python 3 standard library, NumPy and pandas may be used in the solution for this assignment.\n",
    "\n",
    "### Instructions\n",
    "All assignments starting with number 1 below are mandatory. Satisfactory solutions\n",
    "will give 1 point (in total). If they in addition are good (all parts work more or less \n",
    "as they should), completed on time (submitted before the deadline in Canvas) and according\n",
    "to the instructions, together with satisfactory solutions of assignments starting with \n",
    "number 2 below, then the assignment will receive 2 points (in total).\n",
    "\n",
    "It is highly recommended that you do not develop the code directly within the notebook\n",
    "but that you copy the comments and test cases to your regular development environment\n",
    "and only when everything works as expected, that you paste your functions into this\n",
    "notebook, do a final testing (all cells should succeed) and submit the whole notebook \n",
    "(a single file) in Canvas (do not forget to fill in your group number and names above).\n"
   ]
  },
  {
   "cell_type": "markdown",
   "metadata": {
    "slideshow": {
     "slide_type": "subslide"
    }
   },
   "source": [
    "## Load NumPy and pandas"
   ]
  },
  {
   "cell_type": "code",
   "execution_count": 3,
   "metadata": {
    "slideshow": {
     "slide_type": "subslide"
    }
   },
   "outputs": [],
   "source": [
    "import numpy as np\n",
    "import pandas as pd"
   ]
  },
  {
   "cell_type": "markdown",
   "metadata": {},
   "source": [
    "## 1a. Create and apply normalization"
   ]
  },
  {
   "cell_type": "code",
   "execution_count": 4,
   "metadata": {},
   "outputs": [],
   "source": [
    "#   Leo\n",
    "\n",
    "# Insert the functions create_normalization and apply_normalization below (after the comments)\n",
    "#\n",
    "# Input to create_normalization:\n",
    "# df: a dataframe (where the column names \"CLASS\" and \"ID\" have special meaning)\n",
    "# normalizationtype: \"minmax\" (default) or \"zscore\"\n",
    "#\n",
    "# Output from create_normalization:\n",
    "# df: a new dataframe, where each numeric value in a column has been replaced by a normalized value\n",
    "# normalization: a mapping (dictionary) from each column name to a triple, consisting of\n",
    "#                (\"minmax\",min_value,max_value) or (\"zscore\",mean,std)\n",
    "#\n",
    "# Hint 1: First copy the input dataframe and modify the copy (the input dataframe should be kept unchanged)\n",
    "# Hint 2: Consider columns of type \"float\" or \"int\" only (and which are not labeled \"CLASS\" or \"ID\"),\n",
    "#         the other columns should remain unchanged\n",
    "# Hint 3: Take a close look at the lecture slides on data preparation\n",
    "\n",
    "\n",
    "def create_normalization(df, normalizationtype=\"minmax\"):\n",
    "    #   we need to do the modifications on a deep copy of the dataframe \n",
    "    deep_copy_df = df.copy(deep=True)\n",
    "    if normalizationtype == 'minmax':\n",
    "        #   define the min and max function on a dataframe\n",
    "        function1 = lambda dataframe: dataframe.min()\n",
    "        function2 = lambda dataframe: dataframe.max()\n",
    "    elif normalizationtype == 'zscore':\n",
    "        #   define the mean and std function on a dataframe\n",
    "        function1 = lambda dataframe: dataframe.mean()\n",
    "        function2 = lambda dataframe: dataframe.std()\n",
    "    else:\n",
    "        #   if the keyword is not recognize, we make sure that the programme raises an error to indicate\n",
    "        #   where the problem is\n",
    "        raise ValueError('The normalizationtype variable has not been recognized. Please use either minmax '\n",
    "                         'or zscore.')\n",
    "    #   we remove the CLASS and ID columns, which have special meanings, from the working dataframe\n",
    "    wrk_df = deep_copy_df[deep_copy_df.columns.difference(['CLASS', 'ID'])]\n",
    "    #   we select the columns with contain numeric types\n",
    "    wrk_df = wrk_df.select_dtypes(np.number)\n",
    "    dict = {}\n",
    "    for key in wrk_df.columns:\n",
    "        #   we add the column name to the dictionary keys along with the corresponding normalization\n",
    "        dict[key] = (normalizationtype, function1(wrk_df[key]), function2(wrk_df[key]))\n",
    "        if normalizationtype == 'minmax':\n",
    "            #   we apply the corresponding min-max normalization to the column\n",
    "            deep_copy_df[key] = deep_copy_df[key].map(\n",
    "                lambda x: (x-function1(wrk_df[key]))/(function2(wrk_df[key] - function1(wrk_df[key])))\n",
    "            )\n",
    "        else:\n",
    "            #   we apply the corresponding z-normalization to the column\n",
    "            deep_copy_df[key] = deep_copy_df[key].map(\n",
    "                lambda x: (x-function1(wrk_df[key]))/function2(wrk_df[key])\n",
    "            )\n",
    "    return deep_copy_df, dict\n",
    "\n",
    "\n",
    "# Input to apply_normalization:\n",
    "# df: a dataframe\n",
    "# normalization: a mapping (dictionary) from column names to triples (see above)\n",
    "#\n",
    "# Output from apply_normalization:\n",
    "# df: a new dataframe, where each numerical value has been normalized according to the mapping\n",
    "#\n",
    "# Hint 1: First copy the input dataframe and modify the copy (the input dataframe should be kept unchanged)\n",
    "# Hint 2: For minmax-normalization, you may consider to limit the output range to [0,1]\n",
    "\n",
    "\n",
    "def apply_normalization(df, normalization):\n",
    "    #   we need to do the modifications on a deep copy of the dataframe \n",
    "    deep_copy_df = df.copy(deep=True)\n",
    "    for key in normalization.keys():\n",
    "        normalizationtype = normalization[key][0]\n",
    "        if normalizationtype == 'minmax':\n",
    "            min = normalization[key][1]\n",
    "            max = normalization[key][2]\n",
    "            #   we apply the corresponding min-max normalization to the column\n",
    "            deep_copy_df[key] = deep_copy_df[key].map(\n",
    "                lambda x: (x-min)/(max-min)\n",
    "            )\n",
    "        elif normalizationtype == 'zscore':\n",
    "            #   we apply the corresponding z-normalization to the column\n",
    "            mean = normalization[key][1]\n",
    "            std = normalization[key][2]\n",
    "            deep_copy_df[key] = deep_copy_df[key].map(\n",
    "                lambda x: (x-mean)/std\n",
    "            )\n",
    "        else:\n",
    "            #   if the keyword is not recognize, we make sure that the programme raises an error to indicate\n",
    "            #   where the problem is\n",
    "            raise ValueError('The normalizationtype variable has not been recognized. Please use either'\n",
    "                             ' minmax or zscore.')\n",
    "    return deep_copy_df\n"
   ]
  },
  {
   "cell_type": "code",
   "execution_count": 5,
   "metadata": {},
   "outputs": [
    {
     "ename": "FileNotFoundError",
     "evalue": "[Errno 2] File b'glass_train.txt' does not exist: b'glass_train.txt'",
     "output_type": "error",
     "traceback": [
      "\u001b[1;31m---------------------------------------------------------------------------\u001b[0m",
      "\u001b[1;31mFileNotFoundError\u001b[0m                         Traceback (most recent call last)",
      "\u001b[1;32m<ipython-input-5-c8aaa3cba79b>\u001b[0m in \u001b[0;36m<module>\u001b[1;34m\u001b[0m\n\u001b[0;32m      1\u001b[0m \u001b[1;31m# Test your code (leave this part unchanged)\u001b[0m\u001b[1;33m\u001b[0m\u001b[1;33m\u001b[0m\u001b[1;33m\u001b[0m\u001b[0m\n\u001b[0;32m      2\u001b[0m \u001b[1;33m\u001b[0m\u001b[0m\n\u001b[1;32m----> 3\u001b[1;33m \u001b[0mglass_train_df\u001b[0m \u001b[1;33m=\u001b[0m \u001b[0mpd\u001b[0m\u001b[1;33m.\u001b[0m\u001b[0mread_csv\u001b[0m\u001b[1;33m(\u001b[0m\u001b[1;34m\"glass_train.txt\"\u001b[0m\u001b[1;33m)\u001b[0m\u001b[1;33m\u001b[0m\u001b[1;33m\u001b[0m\u001b[0m\n\u001b[0m\u001b[0;32m      4\u001b[0m \u001b[1;33m\u001b[0m\u001b[0m\n\u001b[0;32m      5\u001b[0m \u001b[0mglass_test_df\u001b[0m \u001b[1;33m=\u001b[0m \u001b[0mpd\u001b[0m\u001b[1;33m.\u001b[0m\u001b[0mread_csv\u001b[0m\u001b[1;33m(\u001b[0m\u001b[1;34m\"glass_test.txt\"\u001b[0m\u001b[1;33m)\u001b[0m\u001b[1;33m\u001b[0m\u001b[1;33m\u001b[0m\u001b[0m\n",
      "\u001b[1;32m~\\Anaconda3\\lib\\site-packages\\pandas\\io\\parsers.py\u001b[0m in \u001b[0;36mparser_f\u001b[1;34m(filepath_or_buffer, sep, delimiter, header, names, index_col, usecols, squeeze, prefix, mangle_dupe_cols, dtype, engine, converters, true_values, false_values, skipinitialspace, skiprows, skipfooter, nrows, na_values, keep_default_na, na_filter, verbose, skip_blank_lines, parse_dates, infer_datetime_format, keep_date_col, date_parser, dayfirst, iterator, chunksize, compression, thousands, decimal, lineterminator, quotechar, quoting, doublequote, escapechar, comment, encoding, dialect, tupleize_cols, error_bad_lines, warn_bad_lines, delim_whitespace, low_memory, memory_map, float_precision)\u001b[0m\n\u001b[0;32m    700\u001b[0m                     skip_blank_lines=skip_blank_lines)\n\u001b[0;32m    701\u001b[0m \u001b[1;33m\u001b[0m\u001b[0m\n\u001b[1;32m--> 702\u001b[1;33m         \u001b[1;32mreturn\u001b[0m \u001b[0m_read\u001b[0m\u001b[1;33m(\u001b[0m\u001b[0mfilepath_or_buffer\u001b[0m\u001b[1;33m,\u001b[0m \u001b[0mkwds\u001b[0m\u001b[1;33m)\u001b[0m\u001b[1;33m\u001b[0m\u001b[1;33m\u001b[0m\u001b[0m\n\u001b[0m\u001b[0;32m    703\u001b[0m \u001b[1;33m\u001b[0m\u001b[0m\n\u001b[0;32m    704\u001b[0m     \u001b[0mparser_f\u001b[0m\u001b[1;33m.\u001b[0m\u001b[0m__name__\u001b[0m \u001b[1;33m=\u001b[0m \u001b[0mname\u001b[0m\u001b[1;33m\u001b[0m\u001b[1;33m\u001b[0m\u001b[0m\n",
      "\u001b[1;32m~\\Anaconda3\\lib\\site-packages\\pandas\\io\\parsers.py\u001b[0m in \u001b[0;36m_read\u001b[1;34m(filepath_or_buffer, kwds)\u001b[0m\n\u001b[0;32m    427\u001b[0m \u001b[1;33m\u001b[0m\u001b[0m\n\u001b[0;32m    428\u001b[0m     \u001b[1;31m# Create the parser.\u001b[0m\u001b[1;33m\u001b[0m\u001b[1;33m\u001b[0m\u001b[1;33m\u001b[0m\u001b[0m\n\u001b[1;32m--> 429\u001b[1;33m     \u001b[0mparser\u001b[0m \u001b[1;33m=\u001b[0m \u001b[0mTextFileReader\u001b[0m\u001b[1;33m(\u001b[0m\u001b[0mfilepath_or_buffer\u001b[0m\u001b[1;33m,\u001b[0m \u001b[1;33m**\u001b[0m\u001b[0mkwds\u001b[0m\u001b[1;33m)\u001b[0m\u001b[1;33m\u001b[0m\u001b[1;33m\u001b[0m\u001b[0m\n\u001b[0m\u001b[0;32m    430\u001b[0m \u001b[1;33m\u001b[0m\u001b[0m\n\u001b[0;32m    431\u001b[0m     \u001b[1;32mif\u001b[0m \u001b[0mchunksize\u001b[0m \u001b[1;32mor\u001b[0m \u001b[0miterator\u001b[0m\u001b[1;33m:\u001b[0m\u001b[1;33m\u001b[0m\u001b[1;33m\u001b[0m\u001b[0m\n",
      "\u001b[1;32m~\\Anaconda3\\lib\\site-packages\\pandas\\io\\parsers.py\u001b[0m in \u001b[0;36m__init__\u001b[1;34m(self, f, engine, **kwds)\u001b[0m\n\u001b[0;32m    893\u001b[0m             \u001b[0mself\u001b[0m\u001b[1;33m.\u001b[0m\u001b[0moptions\u001b[0m\u001b[1;33m[\u001b[0m\u001b[1;34m'has_index_names'\u001b[0m\u001b[1;33m]\u001b[0m \u001b[1;33m=\u001b[0m \u001b[0mkwds\u001b[0m\u001b[1;33m[\u001b[0m\u001b[1;34m'has_index_names'\u001b[0m\u001b[1;33m]\u001b[0m\u001b[1;33m\u001b[0m\u001b[1;33m\u001b[0m\u001b[0m\n\u001b[0;32m    894\u001b[0m \u001b[1;33m\u001b[0m\u001b[0m\n\u001b[1;32m--> 895\u001b[1;33m         \u001b[0mself\u001b[0m\u001b[1;33m.\u001b[0m\u001b[0m_make_engine\u001b[0m\u001b[1;33m(\u001b[0m\u001b[0mself\u001b[0m\u001b[1;33m.\u001b[0m\u001b[0mengine\u001b[0m\u001b[1;33m)\u001b[0m\u001b[1;33m\u001b[0m\u001b[1;33m\u001b[0m\u001b[0m\n\u001b[0m\u001b[0;32m    896\u001b[0m \u001b[1;33m\u001b[0m\u001b[0m\n\u001b[0;32m    897\u001b[0m     \u001b[1;32mdef\u001b[0m \u001b[0mclose\u001b[0m\u001b[1;33m(\u001b[0m\u001b[0mself\u001b[0m\u001b[1;33m)\u001b[0m\u001b[1;33m:\u001b[0m\u001b[1;33m\u001b[0m\u001b[1;33m\u001b[0m\u001b[0m\n",
      "\u001b[1;32m~\\Anaconda3\\lib\\site-packages\\pandas\\io\\parsers.py\u001b[0m in \u001b[0;36m_make_engine\u001b[1;34m(self, engine)\u001b[0m\n\u001b[0;32m   1120\u001b[0m     \u001b[1;32mdef\u001b[0m \u001b[0m_make_engine\u001b[0m\u001b[1;33m(\u001b[0m\u001b[0mself\u001b[0m\u001b[1;33m,\u001b[0m \u001b[0mengine\u001b[0m\u001b[1;33m=\u001b[0m\u001b[1;34m'c'\u001b[0m\u001b[1;33m)\u001b[0m\u001b[1;33m:\u001b[0m\u001b[1;33m\u001b[0m\u001b[1;33m\u001b[0m\u001b[0m\n\u001b[0;32m   1121\u001b[0m         \u001b[1;32mif\u001b[0m \u001b[0mengine\u001b[0m \u001b[1;33m==\u001b[0m \u001b[1;34m'c'\u001b[0m\u001b[1;33m:\u001b[0m\u001b[1;33m\u001b[0m\u001b[1;33m\u001b[0m\u001b[0m\n\u001b[1;32m-> 1122\u001b[1;33m             \u001b[0mself\u001b[0m\u001b[1;33m.\u001b[0m\u001b[0m_engine\u001b[0m \u001b[1;33m=\u001b[0m \u001b[0mCParserWrapper\u001b[0m\u001b[1;33m(\u001b[0m\u001b[0mself\u001b[0m\u001b[1;33m.\u001b[0m\u001b[0mf\u001b[0m\u001b[1;33m,\u001b[0m \u001b[1;33m**\u001b[0m\u001b[0mself\u001b[0m\u001b[1;33m.\u001b[0m\u001b[0moptions\u001b[0m\u001b[1;33m)\u001b[0m\u001b[1;33m\u001b[0m\u001b[1;33m\u001b[0m\u001b[0m\n\u001b[0m\u001b[0;32m   1123\u001b[0m         \u001b[1;32melse\u001b[0m\u001b[1;33m:\u001b[0m\u001b[1;33m\u001b[0m\u001b[1;33m\u001b[0m\u001b[0m\n\u001b[0;32m   1124\u001b[0m             \u001b[1;32mif\u001b[0m \u001b[0mengine\u001b[0m \u001b[1;33m==\u001b[0m \u001b[1;34m'python'\u001b[0m\u001b[1;33m:\u001b[0m\u001b[1;33m\u001b[0m\u001b[1;33m\u001b[0m\u001b[0m\n",
      "\u001b[1;32m~\\Anaconda3\\lib\\site-packages\\pandas\\io\\parsers.py\u001b[0m in \u001b[0;36m__init__\u001b[1;34m(self, src, **kwds)\u001b[0m\n\u001b[0;32m   1851\u001b[0m         \u001b[0mkwds\u001b[0m\u001b[1;33m[\u001b[0m\u001b[1;34m'usecols'\u001b[0m\u001b[1;33m]\u001b[0m \u001b[1;33m=\u001b[0m \u001b[0mself\u001b[0m\u001b[1;33m.\u001b[0m\u001b[0musecols\u001b[0m\u001b[1;33m\u001b[0m\u001b[1;33m\u001b[0m\u001b[0m\n\u001b[0;32m   1852\u001b[0m \u001b[1;33m\u001b[0m\u001b[0m\n\u001b[1;32m-> 1853\u001b[1;33m         \u001b[0mself\u001b[0m\u001b[1;33m.\u001b[0m\u001b[0m_reader\u001b[0m \u001b[1;33m=\u001b[0m \u001b[0mparsers\u001b[0m\u001b[1;33m.\u001b[0m\u001b[0mTextReader\u001b[0m\u001b[1;33m(\u001b[0m\u001b[0msrc\u001b[0m\u001b[1;33m,\u001b[0m \u001b[1;33m**\u001b[0m\u001b[0mkwds\u001b[0m\u001b[1;33m)\u001b[0m\u001b[1;33m\u001b[0m\u001b[1;33m\u001b[0m\u001b[0m\n\u001b[0m\u001b[0;32m   1854\u001b[0m         \u001b[0mself\u001b[0m\u001b[1;33m.\u001b[0m\u001b[0munnamed_cols\u001b[0m \u001b[1;33m=\u001b[0m \u001b[0mself\u001b[0m\u001b[1;33m.\u001b[0m\u001b[0m_reader\u001b[0m\u001b[1;33m.\u001b[0m\u001b[0munnamed_cols\u001b[0m\u001b[1;33m\u001b[0m\u001b[1;33m\u001b[0m\u001b[0m\n\u001b[0;32m   1855\u001b[0m \u001b[1;33m\u001b[0m\u001b[0m\n",
      "\u001b[1;32mpandas/_libs/parsers.pyx\u001b[0m in \u001b[0;36mpandas._libs.parsers.TextReader.__cinit__\u001b[1;34m()\u001b[0m\n",
      "\u001b[1;32mpandas/_libs/parsers.pyx\u001b[0m in \u001b[0;36mpandas._libs.parsers.TextReader._setup_parser_source\u001b[1;34m()\u001b[0m\n",
      "\u001b[1;31mFileNotFoundError\u001b[0m: [Errno 2] File b'glass_train.txt' does not exist: b'glass_train.txt'"
     ]
    }
   ],
   "source": [
    "# Test your code (leave this part unchanged)\n",
    "\n",
    "glass_train_df = pd.read_csv(\"glass_train.txt\")\n",
    "\n",
    "glass_test_df = pd.read_csv(\"glass_test.txt\")\n",
    "\n",
    "glass_train_norm, normalization = create_normalization(glass_train_df, normalizationtype=\"minmax\")\n",
    "print(\"normalization:\\n\")\n",
    "for f in normalization:\n",
    "    print(\"{}:{}\".format(f,normalization[f]))\n",
    "\n",
    "glass_test_norm = apply_normalization(glass_test_df,normalization)\n",
    "print(\"\\nglass_test_norm:\\n\")\n",
    "print(glass_test_norm)\n"
   ]
  },
  {
   "cell_type": "markdown",
   "metadata": {},
   "source": [
    "### Comment on assumptions, things that do not work properly, etc.\n"
   ]
  },
  {
   "cell_type": "markdown",
   "metadata": {},
   "source": [
    "## 1b. Create and apply imputation"
   ]
  },
  {
   "cell_type": "code",
   "execution_count": null,
   "metadata": {},
   "outputs": [],
   "source": [
    "#   Veronika\n",
    "\n",
    "# Insert the functions create_imputation and apply_imputation below (after the comments)\n",
    "#\n",
    "# Input to create_imputation:\n",
    "# df: a dataframe (where the column names \"CLASS\" and \"ID\" have special meaning)\n",
    "#\n",
    "# Output from create_imputation:\n",
    "# df: a new dataframe, where each missing numeric value in a column has been replaced by the mean of that column \n",
    "#     and each missing categoric value in a column has been replaced by the mode of that column\n",
    "# imputation: a mapping (dictionary) from column name to value that has replaced missing values\n",
    "#\n",
    "# Hint 1: First copy the input dataframe and modify the copy (the input dataframe should be kept unchanged)\n",
    "# Hint 2: Handle columns of type \"float\" or \"int\" only (and which are not labeled \"CLASS\" or \"ID\") in one way\n",
    "#         and columns of type \"object\" and \"category\" in other ways\n",
    "# Hint 3: Consider using the pandas functions mean() and mode() respectively, as well as fillna\n",
    "# Hint 4: In the rare case of all values in a column being missing, replace numeric values with 0,\n",
    "#         object values with \"\" and category values with the first category (cat.categories[0])  \n",
    "\n",
    "\n",
    "def create_imputation(df):\n",
    "    wrk_df = df.copy()\n",
    "    dict = {}\n",
    "    columns = wrk_df.columns.difference(['CLASS', 'ID '])\n",
    "    for key in columns:\n",
    "        #treat column as numeric\n",
    "        if (wrk_df[key].dtypes == np.float64 or wrk_df[key].dtypes == np.int64):\n",
    "            #first thing that came to my mind on checking if all values are null\n",
    "            if (wrk_df[key].isnull().sum() == len(wrk_df[key])):\n",
    "                repl_val = 0\n",
    "            else:\n",
    "                repl_val = wrk_df[key].mean()          \n",
    "        #treat value as categorical\n",
    "        elif (wrk_df[key].dtypes == np.bool or wrk_df[key].dtypes.name == 'category'):\n",
    "            if (wrk_df[key].isnull().sum() == len(wrk_df[key])):\n",
    "                repl_val = wrk_df[key].categories[0]\n",
    "            else: \n",
    "                repl_val = wrk_df[key].mode()[0]\n",
    "        #treat value as a string\n",
    "        elif (wrk_df[key].dtypes == np.object):\n",
    "            if (wrk_df[key].isnull().sum() == len(wrk_df[key])):\n",
    "                repl_val = \"\"\n",
    "            else: \n",
    "                repl_val = wrk_df[key].mode()[0] #mode can return multiple things\n",
    "        else: \n",
    "            raise ValueError('Unknown column type.')\n",
    "\n",
    "        dict[key] = (repl_val)\n",
    "        wrk_df[key].fillna(repl_val, inplace = True)\n",
    "    return wrk_df, dict\n",
    "    \n",
    "\n",
    "#\n",
    "# Input to apply_imputation:\n",
    "# df: a dataframe\n",
    "# imputation: a mapping (dictionary) from column name to value that should replace missing values\n",
    "#\n",
    "# Output from apply_imputation:\n",
    "# df: a new dataframe, where each missing value has been replaced according to the mapping\n",
    "#\n",
    "# Hint 1: First copy the input dataframe and modify the copy (the input dataframe should be kept unchanged)\n",
    "# Hint 2: Consider using fillna\n",
    "\n",
    "def apply_imputation(df, repl_vals):\n",
    "    wrk_df = df.copy()\n",
    "    for key in repl_vals:\n",
    "        wrk_df[key].fillna(repl_vals[key])\n",
    "    return wrk_df\n",
    "\n",
    "\n",
    "\n"
   ]
  },
  {
   "cell_type": "code",
   "execution_count": null,
   "metadata": {
    "scrolled": false
   },
   "outputs": [],
   "source": [
    "# Test your code (leave this part unchanged)\n",
    "\n",
    "anneal_train_df = pd.read_csv(\"anneal_train.txt\")\n",
    "anneal_test_df = pd.read_csv(\"anneal_test.txt\")\n",
    "\n",
    "anneal_train_imp, imputation = create_imputation(anneal_train_df)\n",
    "anneal_test_imp = apply_imputation(anneal_test_df,imputation)\n",
    "\n",
    "print(\"Imputation:\\n\")\n",
    "for f in imputation:\n",
    "    print(\"{}:{}\".format(f,imputation[f]))\n",
    "\n",
    "print(\"\\nNo. of replaced missing values in training data:\\n{}\".format(anneal_train_imp.count()-anneal_train_df.count()))\n",
    "print(\"\\nNo. of replaced missing values in test data:\\n{}\".format(anneal_test_imp.count()-anneal_test_df.count()))\n",
    "\n"
   ]
  },
  {
   "cell_type": "markdown",
   "metadata": {},
   "source": [
    "### Comment on assumptions, things that do not work properly, etc."
   ]
  },
  {
   "cell_type": "markdown",
   "metadata": {},
   "source": [
    "## 1c. Create and apply discretization"
   ]
  },
  {
   "cell_type": "code",
   "execution_count": null,
   "metadata": {},
   "outputs": [],
   "source": [
    "# Insert the functions create_bins and apply_bins below\n",
    "#\n",
    "# Input to create_bins:\n",
    "# df: a dataframe\n",
    "# nobins: no. of bins (default = 10)\n",
    "# bintype: either \"equal-width\" (default) or \"equal-size\" \n",
    "#\n",
    "# Output from create_bins:\n",
    "# df: a new dataframe, where each numeric feature value has been replaced by a categoric (corresponding to some bin)\n",
    "# binning: a mapping (dictionary) from column name to bins (threshold values for the bin)\n",
    "#\n",
    "# Hint 1: First copy the input dataframe and modify the copy (the input dataframe should be kept unchanged)\n",
    "# Hint 2: Discretize columns of type \"float\" or \"int\" only (and which are not labeled \"CLASS\" or \"ID\")\n",
    "# Hint 3: Consider using pd.cut and pd.qcut respectively, with labels=False, retbins=True and duplicates=\"drop\"\n",
    "#         (the last option will avoid errors when not enough bins can be created)\n",
    "# Hint 4: Set all columns in the new dataframe to be of type \"category\"\n",
    "# Hint 5: Set the categories of the discretized features to be [0,...,nobins-1]\n",
    "# Hint 6: Change the first and the last element of each binning to -np.inf and np.inf respectively \n",
    "\n",
    "def create_bins(df, bintype=\"equal-width\", nobins=10):\n",
    "    newdf = df.copy()\n",
    "    binning = {}\n",
    "    binfunctions = {'equal-width':pd.cut, 'equal-size':pd.qcut}\n",
    "    for key in newdf.columns:\n",
    "        if newdf[key].dtype == np.number and key not in ['CLASS', 'ID']:\n",
    "            res, bins = binfunctions[bintype](newdf[key], nobins, labels=False, retbins=True, duplicates=\"drop\")\n",
    "            newdf[key] = res\n",
    "            #hint 6 implementation. This part assumes that there are more than 2 bins\n",
    "            bins[0] = -np.inf\n",
    "            bins[-1] = np.inf \n",
    "            \n",
    "            binning[key] = bins\n",
    "            \n",
    "    #Hint 4 implementation\n",
    "    for key in newdf.columns:\n",
    "        newdf[key] = newdf[key].astype('category')\n",
    "    \n",
    "    return newdf, binning\n",
    "\n",
    "# Input to apply_bins:\n",
    "# df: a dataframe\n",
    "# binning: a mapping (dictionary) from column name to bins (threshold values for the bin)\n",
    "#\n",
    "# Output from apply_bins:\n",
    "# df: a new dataframe, where each numeric feature value has been replaced by a categoric (corresponding to some bin)\n",
    "#\n",
    "# Hint 1: First copy the input dataframe and modify the copy (the input dataframe should be kept unchanged)\n",
    "# Hint 2: Consider using pd.cut \n",
    "# Hint 3: Set all columns in the new dataframe to be of type \"category\"\n",
    "# Hint 4: Set the categories of the discretized features to be [0,...,nobins-1]\n",
    "#\n",
    "\n",
    "def apply_bins(df, binning):\n",
    "    newdf = df.copy()\n",
    "    for key in newdf.columns:\n",
    "        if key in binning:\n",
    "            newdf[key] = pd.cut(df[key],binning[key], labels=False)\n",
    "    \n",
    "    #Hint 3 implementation\n",
    "    for key in newdf.columns:\n",
    "        newdf[key] = newdf[key].astype('category')\n",
    "    \n",
    "    return newdf"
   ]
  },
  {
   "cell_type": "code",
   "execution_count": null,
   "metadata": {},
   "outputs": [],
   "source": [
    "# Test your code  (leave this part unchanged)\n",
    "\n",
    "glass_train_df = pd.read_csv(\"glass_train.txt\")\n",
    "\n",
    "glass_test_df = pd.read_csv(\"glass_test.txt\")\n",
    "\n",
    "glass_train_disc, binning = create_bins(glass_train_df,nobins=10,bintype=\"equal-size\")\n",
    "print(\"binning:\\n\")\n",
    "for f in binning:\n",
    "    print(\"{}:{}\".format(f,binning[f]))\n",
    "\n",
    "glass_test_disc = apply_bins(glass_test_df,binning)\n",
    "print(\"\\nglass_test_disc:\\n\")\n",
    "glass_test_disc\n"
   ]
  },
  {
   "cell_type": "markdown",
   "metadata": {},
   "source": [
    "### Comment on assumptions, things that do not work properly, etc."
   ]
  },
  {
   "cell_type": "code",
   "execution_count": null,
   "metadata": {},
   "outputs": [],
   "source": [
    "## 1d. Divide a dataset into a training and a test set"
   ]
  },
  {
   "cell_type": "code",
   "execution_count": null,
   "metadata": {},
   "outputs": [],
   "source": [
    "#   Leo\n",
    "\n",
    "# Insert the function split below\n",
    "#\n",
    "# Input to split:\n",
    "# df: a dataframe\n",
    "# testfraction: a float in the range (0,1) (default = 0.5)\n",
    "#\n",
    "# Output from split:\n",
    "# trainingdf: a dataframe consisting of a random sample of (1-testfraction) of the rows in df\n",
    "# testdf: a dataframe consisting of the rows in df that are not included in trainingdf\n",
    "#\n",
    "# Hint: You may use np.random.permutation(df.index) to get a permuted list of indexes where a \n",
    "#       prefix corresponds to the test instances, and the suffix to the training instances \n",
    "\n",
    "\n",
    "def split(df, testfraction=0.5):\n",
    "    #   generate a permutation of the row numbers\n",
    "    permutation = np.random.permutation(df.index)\n",
    "    #   compute the index separating the testing rows from the training rows in permutation\n",
    "    sep_index = int(permutation.size*testfraction)\n",
    "    #   return two slices of the initial data set: \n",
    "    #   the first one contains 1-testfraction fraction of the dataframe and correspond to the training set\n",
    "    #   and the other one contains testfraction fraction of the dataframe and correspond to the testing set.\n",
    "    return df.iloc[permutation[sep_index:], :], df.iloc[permutation[:sep_index], :]\n"
   ]
  },
  {
   "cell_type": "code",
   "execution_count": null,
   "metadata": {},
   "outputs": [],
   "source": [
    "# Test your code  (leave this part unchanged)\n",
    "\n",
    "glass_df = pd.read_csv(\"glass.txt\")\n",
    "\n",
    "glass_train, glass_test = split(glass_df,testfraction=0.25)\n",
    "\n",
    "print(\"Training IDs:\\n{}\".format(glass_train[\"ID\"].values))\n",
    "\n",
    "print(\"\\nTest IDs:\\n{}\".format(glass_test[\"ID\"].values))\n",
    "\n",
    "print(\"\\nOverlap: {}\".format(set(glass_train[\"ID\"]).intersection(set(glass_test[\"ID\"]))))\n"
   ]
  },
  {
   "cell_type": "markdown",
   "metadata": {},
   "source": [
    "### Comment on assumptions, things that do not work properly, etc."
   ]
  },
  {
   "cell_type": "markdown",
   "metadata": {},
   "source": [
    "## 1e. Calculate accuracy of a set of predictions"
   ]
  },
  {
   "cell_type": "code",
   "execution_count": null,
   "metadata": {},
   "outputs": [],
   "source": [
    "#   Veronika\n",
    "\n",
    "# Insert the function accuracy below\n",
    "#\n",
    "# Input to accuracy:\n",
    "# df: a dataframe with class labels as column names and each row corresponding to\n",
    "#     a prediction with estimated probabilities for each class\n",
    "# correctlabels: an array (or list) of the correct class label for each prediction\n",
    "#                (the number of correct labels must equal the number of rows in df)\n",
    "#\n",
    "# Output from accuracy:\n",
    "# accuracy: the fraction of cases for which the predicted class label coincides with the correct label\n",
    "#\n",
    "# Hint: In case the label receiving the highest probability is not unique, you may\n",
    "#       resolve that by picking the first (as ordered by the column names) or \n",
    "#       by randomly selecting one of the labels with highest probaility.\n",
    "\n"
   ]
  },
  {
   "cell_type": "code",
   "execution_count": null,
   "metadata": {},
   "outputs": [],
   "source": [
    "# Test your code  (leave this part unchanged)\n",
    "\n",
    "predictions = pd.DataFrame({\"A\":[0.5,0.5,0.5,0.25,0.25],\"B\":[0.5,0.25,0.25,0.5,0.25],\"C\":[0.0,0.25,0.25,0.25,0.5]})\n",
    "predictions\n"
   ]
  },
  {
   "cell_type": "code",
   "execution_count": null,
   "metadata": {},
   "outputs": [],
   "source": [
    "correctlabels = [\"B\",\"A\",\"B\",\"B\",\"C\"]\n",
    "\n",
    "accuracy(predictions,correctlabels) # Note that depending on how ties are resolved the accuracy may be 0.6 or 0.8"
   ]
  },
  {
   "cell_type": "markdown",
   "metadata": {},
   "source": [
    "### Comment on assumptions, things that do not work properly, etc."
   ]
  },
  {
   "cell_type": "markdown",
   "metadata": {},
   "source": [
    "## 2a. Create and apply one-hot encoding"
   ]
  },
  {
   "cell_type": "code",
   "execution_count": null,
   "metadata": {},
   "outputs": [],
   "source": [
    "#Tim\n",
    "#\n",
    "# Insert the functions create_one_hot and apply_one_hot below\n",
    "#\n",
    "# Input to create_one_hot:\n",
    "# df: a dataframe\n",
    "#\n",
    "# Output from create_one_hot:\n",
    "# df: a new dataframe, where each categoric feature has been replaced by a set of binary features \n",
    "#    (as many new features as there are possible values)\n",
    "# one_hot: a mapping (dictionary) from column name to a set of categories (possible values for the feature)\n",
    "#\n",
    "# Hint 1: First copy the input dataframe and modify the copy (the input dataframe should be kept unchanged)\n",
    "# Hint 2: Consider columns of type \"object\" or \"category\" only (and which are not labeled \"CLASS\" or \"ID\")\n",
    "# Hint 3: Consider creating new column names by merging the original column name and the categorical value\n",
    "# Hint 4: Set all new columns to be of type \"float\"\n",
    "# Hint 5: Do not forget to remove the original categoric feature\n",
    "\n",
    "def create_one_hot(df):\n",
    "    newdf = pd.DataFrame()\n",
    "    one_hot = {}\n",
    "    for key in df.columns:\n",
    "        if df[key].dtype in [np.object, 'category'] and key not in ['CLASS', 'ID']:\n",
    "            one_hot[key] = df[key].unique()\n",
    "            newtab = pd.get_dummies(df[key], prefix=key)\n",
    "            for i in newtab.columns: #converting to floats\n",
    "                newtab[i] = newtab[i].astype(float)\n",
    "            newdf = pd.concat([newdf, newtab], axis=1)\n",
    "        else:\n",
    "            newdf = pd.concat([newdf, df[key]], axis=1)\n",
    "    \n",
    "    return(newdf, one_hot)\n",
    "\n",
    "# Input to apply_one_hot:\n",
    "# df: a dataframe\n",
    "# one_hot: a mapping (dictionary) from column name to categories\n",
    "#\n",
    "# Output from apply_one_hot:\n",
    "# df: a new dataframe, where each categoric feature has been replaced by a set of binary features\n",
    "#\n",
    "# Hint: See the above Hints\n",
    "\n",
    "def apply_one_hot(df, one_hot):\n",
    "    newdf = pd.DataFrame()\n",
    "    for key in df.columns:\n",
    "        if key in one_hot:\n",
    "            cols = pd.CategoricalDtype(categories=one_hot[key])\n",
    "            newcol = df[key].astype(cols)\n",
    "            newtab = pd.get_dummies(newcol, prefix=key)\n",
    "            for i in newtab.columns: #converting to floats\n",
    "                newtab[i] = newtab[i].astype(float)\n",
    "                \n",
    "            newdf = pd.concat([newdf, newtab], axis=1)\n",
    "        else:\n",
    "            newdf = pd.concat([newdf, df[key]], axis=1)\n",
    "    return(newdf)"
   ]
  },
  {
   "cell_type": "code",
   "execution_count": null,
   "metadata": {},
   "outputs": [],
   "source": [
    "# Test your code  (leave this part unchanged)\n",
    "\n",
    "tictactoe = pd.read_csv(\"tic-tac-toe.txt\")\n",
    "\n",
    "train_df, test_df = split(tictactoe) # Using your above function\n",
    "\n",
    "new_train, one_hot = create_one_hot(train_df)\n",
    "\n",
    "new_test = apply_one_hot(test_df,one_hot)\n",
    "new_test"
   ]
  },
  {
   "cell_type": "markdown",
   "metadata": {},
   "source": [
    "### Comment on assumptions, things that do not work properly, etc."
   ]
  },
  {
   "cell_type": "code",
   "execution_count": null,
   "metadata": {},
   "outputs": [],
   "source": [
    "## 2b. Divide a dataset into a number of folds"
   ]
  },
  {
   "cell_type": "code",
   "execution_count": null,
   "metadata": {},
   "outputs": [],
   "source": [
    "#   Leo\n",
    "\n",
    "# Insert the function folds below\n",
    "#\n",
    "# Input to folds:\n",
    "# df: a dataframe\n",
    "# nofolds: an integer greater than 1 (default = 10)\n",
    "#\n",
    "# Output from folds:\n",
    "# folds: a list (of length = nofolds) dataframes consisting of random non-overlapping, \n",
    "#        approximately equal-sized subsets of the rows in df\n",
    "#\n",
    "# Hint: You may use np.random.permutation(df.index) to get a permuted list of indexes from which a \n",
    "#       prefix corresponds to the test instances, and the suffix to the training instances \n",
    "\n",
    "\n",
    "def folds(df, nofolds=10):\n",
    "    #   generate a permutation of the row numbers\n",
    "    permutation = np.random.permutation(df.index)\n",
    "    #  \n",
    "    folds_indexes = np.array_split(permutation, nofolds)\n",
    "    #   return two slices of the initial data set: \n",
    "    #   the first one contains 1-testfraction fraction of the dataframe and correspond to the training set\n",
    "    #   and the other one contains testfraction fraction of the dataframe and correspond to the testing set.\n",
    "    return [df.iloc[permutation[indexes], :] for indexes in folds_indexes]\n"
   ]
  },
  {
   "cell_type": "code",
   "execution_count": null,
   "metadata": {},
   "outputs": [],
   "source": [
    "# Test your code  (leave this part unchanged)\n",
    "\n",
    "glass_df = pd.read_csv(\"glass.txt\")\n",
    "\n",
    "glass_folds = folds(glass_df,nofolds=5)\n",
    "\n",
    "fold_sizes = [len(f) for f in glass_folds]\n",
    "\n",
    "print(\"Fold sizes:{}\\nTotal no. instances: {}\".format(fold_sizes,sum(fold_sizes)))"
   ]
  },
  {
   "cell_type": "markdown",
   "metadata": {},
   "source": [
    "### Comment on assumptions, things that do not work properly, etc."
   ]
  },
  {
   "cell_type": "markdown",
   "metadata": {},
   "source": [
    "## 2c. Calculate Brier score of a set of predictions"
   ]
  },
  {
   "cell_type": "code",
   "execution_count": null,
   "metadata": {},
   "outputs": [],
   "source": [
    "#   Veronika\n",
    "\n",
    "# Insert the function brier_score below\n",
    "#\n",
    "# Input to brier_score:\n",
    "# df: a dataframe with class labels as column names and each row corresponding to\n",
    "#     a prediction with estimated probabilities for each class\n",
    "# correctlabels: an array (or list) of the correct class label for each prediction\n",
    "#                (the number of correct labels must equal the number of rows in df)\n",
    "#\n",
    "# Output from brier_score:\n",
    "# brier_score: the average square error of the predicted probabilties \n",
    "#\n",
    "# Hint: Compare each predicted vector to a vector for each correct label, which is all zeros except \n",
    "#       for at the index of the correct class. The index can be found using np.where(df.columns==l)[0] \n",
    "#       where l is the correct label.\n",
    "\n"
   ]
  },
  {
   "cell_type": "code",
   "execution_count": null,
   "metadata": {},
   "outputs": [],
   "source": [
    "# Test your code  (leave this part unchanged)\n",
    "\n",
    "predictions = pd.DataFrame({\"A\":[0.5,0.5,0.5,0.25,0.25],\"B\":[0.5,0.25,0.25,0.5,0.25],\"C\":[0.0,0.25,0.25,0.25,0.5]})\n",
    "\n",
    "correctlabels = [\"B\",\"A\",\"B\",\"B\",\"C\"]\n",
    "\n",
    "brier_score(predictions,correctlabels)"
   ]
  },
  {
   "cell_type": "markdown",
   "metadata": {},
   "source": [
    "### Comment on assumptions, things that do not work properly, etc."
   ]
  },
  {
   "cell_type": "markdown",
   "metadata": {},
   "source": [
    "## 2d. Calculate AUC of a set of predictions"
   ]
  },
  {
   "cell_type": "code",
   "execution_count": 6,
   "metadata": {},
   "outputs": [],
   "source": [
    "#   Tim\n",
    "\n",
    "# Insert the function auc below\n",
    "#\n",
    "# Input to auc:\n",
    "# df: a dataframe with class labels as column names and each row corresponding to\n",
    "#     a prediction with estimated probabilities for each class\n",
    "# correctlabels: an array (or list) of the correct class label for each prediction\n",
    "#                (the number of correct labels must equal the number of rows in df)\n",
    "#\n",
    "# Output from auc:\n",
    "# auc: the weighted area under ROC curve\n",
    "#\n",
    "# Hint 1: Calculate the binary AUC first for each class label c, i.e., treating the\n",
    "#         predicted probability of this class for each instance as a score; the positive\n",
    "#         instances are the ones belonging to class c and the negative instances the rest\n",
    "# Hint 2: When calculating the binary AUC, first find the scores of the positive instances and then\n",
    "#         the scores of the negative instances\n",
    "# Hint 3: You may use a dictionary with a mapping from each score to an array of two numbers; \n",
    "#         the number of positive instances with this score and the number of negative instances with this score\n",
    "# Hint 4: Created a (reversely) sorted (on the scores) list of pairs from the dictionary and\n",
    "#         iterate over this to additively calculate the AUC\n",
    "# Hint 5: For each pair in the above list, there are three cases to consider; the no. of true positives\n",
    "#         (tp_i) is zero, the number of false positives (fp_i) (negatives) is zero, and both are non-zero\n",
    "# Hint 6: Calculate the weighted AUC by summing the individual AUCs weighted by the relative\n",
    "#         frequency of each class (as estimated from the correct labels)\n",
    "\n",
    "def auc(df, correctlabels):\n",
    "    finauc = 0\n",
    "    freq = {}\n",
    "    aucdict = {}\n",
    "    for c in set(correctlabels):\n",
    "        freq[c] = correctlabels.count(c)\n",
    "        y_true = np.array([1 if x is c else 0 for x in correctlabels])\n",
    "        scores = df[c]\n",
    "        scoredct = {}\n",
    "        poscount = scores[[bool(x) for x in y_true]].value_counts()\n",
    "        negcount = scores[[not bool(x) for x in y_true]].value_counts()\n",
    "        for score in sorted(set(scores), reverse=True):\n",
    "            posscore = poscount[score] if score in poscount else 0\n",
    "            negscore = negcount[score] if score in negcount else 0\n",
    "            scoredct[score] = (posscore, negscore)\n",
    "\n",
    "        tot_tp = sum([scoredct[key][0] for key in scoredct])\n",
    "        tot_fp = sum([scoredct[key][1] for key in scoredct])\n",
    "        auc = 0\n",
    "        cov_tp = 0\n",
    "        for i in scoredct:\n",
    "            tp_i = scoredct[i][0]\n",
    "            fp_i = scoredct[i][1]\n",
    "            if fp_i == 0:\n",
    "                cov_tp += tp_i\n",
    "            elif tp_i == 0:\n",
    "                auc += (cov_tp/tot_tp)*(fp_i/tot_fp)\n",
    "            else:\n",
    "                auc += (cov_tp/tot_tp)*(fp_i/tot_fp) + (tp_i/tot_tp)*(fp_i/tot_fp)/2\n",
    "                cov_tp += tp_i\n",
    "        \n",
    "        aucdict[c] = auc       \n",
    "    for key in aucdict:\n",
    "        finauc += freq[key]/len(correctlabels)*aucdict[key]\n",
    "    return finauc"
   ]
  },
  {
   "cell_type": "code",
   "execution_count": 7,
   "metadata": {},
   "outputs": [
    {
     "data": {
      "text/plain": [
       "0.375"
      ]
     },
     "execution_count": 7,
     "metadata": {},
     "output_type": "execute_result"
    }
   ],
   "source": [
    "# Test your code  (leave this part unchanged)\n",
    "\n",
    "predictions = pd.DataFrame({\"A\":[0.9,0.9,0.6,0.55],\"B\":[0.1,0.1,0.4,0.45]})\n",
    "\n",
    "correctlabels = [\"A\",\"B\",\"B\",\"A\"]\n",
    "\n",
    "auc(predictions,correctlabels)\n",
    "\n"
   ]
  },
  {
   "cell_type": "code",
   "execution_count": 8,
   "metadata": {},
   "outputs": [
    {
     "data": {
      "text/plain": [
       "0.8499999999999999"
      ]
     },
     "execution_count": 8,
     "metadata": {},
     "output_type": "execute_result"
    }
   ],
   "source": [
    "predictions = pd.DataFrame({\"A\":[0.5,0.5,0.5,0.25,0.25],\"B\":[0.5,0.25,0.25,0.5,0.25],\"C\":[0.0,0.25,0.25,0.25,0.5]})\n",
    "\n",
    "correctlabels = [\"B\",\"A\",\"B\",\"B\",\"C\"]\n",
    "\n",
    "auc(predictions,correctlabels)"
   ]
  },
  {
   "cell_type": "markdown",
   "metadata": {},
   "source": [
    "### Comment on assumptions, things that do not work properly, etc."
   ]
  },
  {
   "cell_type": "code",
   "execution_count": null,
   "metadata": {},
   "outputs": [],
   "source": []
  }
 ],
 "metadata": {
  "celltoolbar": "Slideshow",
  "kernelspec": {
   "display_name": "Python 3",
   "language": "python",
   "name": "python3"
  },
  "language_info": {
   "codemirror_mode": {
    "name": "ipython",
    "version": 3
   },
   "file_extension": ".py",
   "mimetype": "text/x-python",
   "name": "python",
   "nbconvert_exporter": "python",
   "pygments_lexer": "ipython3",
   "version": "3.7.3"
  }
 },
 "nbformat": 4,
 "nbformat_minor": 2
}
