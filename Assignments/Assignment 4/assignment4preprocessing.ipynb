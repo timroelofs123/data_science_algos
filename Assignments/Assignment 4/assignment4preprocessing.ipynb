{
 "cells": [
  {
   "cell_type": "code",
   "execution_count": 242,
   "metadata": {},
   "outputs": [],
   "source": [
    "import numpy as np\n",
    "import pandas as pd\n",
    "from rdkit import Chem\n",
    "from rdkit.Chem import PandasTools\n",
    "from rdkit.Chem.Draw import IPythonConsole\n",
    "from rdkit.Chem import AllChem\n",
    "import rdkit.Chem.Lipinski as l\n",
    "import rdkit.Chem.rdMolDescriptors as d\n",
    "import rdkit.Chem.Fragments as f\n",
    "import rdkit.Chem.Descriptors as des\n",
    "import rdkit.Chem.Crippen as crip\n",
    "import rdkit.Chem.GraphDescriptors as gdes\n",
    "import rdkit.Chem.QED as q"
   ]
  },
  {
   "cell_type": "code",
   "execution_count": 198,
   "metadata": {},
   "outputs": [],
   "source": [
    "#PandasTools.AddMoleculeColumnToFrame(train_df, smilesCol='SMILES', molCol='MOLECULE')\n",
    "#print(train_df)"
   ]
  },
  {
   "cell_type": "code",
   "execution_count": 162,
   "metadata": {},
   "outputs": [
    {
     "data": {
      "text/plain": [
       "[0.0,\n",
       " 28.672577219891046,\n",
       " 30.973562807722125,\n",
       " 11.835812092322787,\n",
       " 41.51627083556601,\n",
       " 121.32734136923226,\n",
       " 0.0,\n",
       " 0.0,\n",
       " 0.0,\n",
       " 0.0,\n",
       " 0.0,\n",
       " 12.407033161179976]"
      ]
     },
     "execution_count": 162,
     "metadata": {},
     "output_type": "execute_result"
    }
   ],
   "source": [
    "x = Chem.MolFromSmiles('Cl.O=C1C(CN(CC2:C:C:C:C:C:2)CC2:C:C:C:C:C:2)CCCC1CN(CC1:C:C:C:C:C:1)CC1:C:C:C:C:C:1')\n",
    "\n",
    "fps = Chem.RDKFingerprint(x)\n",
    "#print(fps.ToBitString())\n",
    "y = AllChem.GetMorganFingerprintAsBitVect(x,2,nBits=124)\n",
    "#print(np.array(y))\n",
    "\n",
    "#CalcChiNn, CalcChiNv, CalcEEMcharges, CalcEccentricity, CalcGETAWAY, \n",
    "#CalcInertialShapeFactor, CalcMORSE, CalcNPR1, CalcNPR2, CalcPBF, CalcPMI1, CalcPMI2, CalcPMI3, \n",
    "#CalcRDF, CalcRadiusOfGyration, CalcSpherocityIndex, CalcWHIM, CustomProp_VSA_, \n",
    "#GetAtomPairAtomCode, GetAtomPairCode, GetHashedMorganFingerprint, GetMorganFingerprint, \n",
    "#GetUSR, GetUSRCAT, GetUSRDistributions, GetUSRDistributionsFromPoints, GetUSRFromDistributions, GetUSRScore\n",
    "#MakePropertyRangeQuery,NumRotatableBondsOptions, Properties, PythonPropertyFunctor, PropertyFunctor\n",
    "#CalcMolFormula returns formula\n",
    "\n",
    "d.CalcChi0n(x) #float\n",
    "d.CalcChi0v(x) #float\n",
    "d.CalcChi1n(x) #float\n",
    "d.CalcChi1v(x) #float\n",
    "d.CalcChi2n(x) #float\n",
    "d.CalcChi2v(x) #float\n",
    "d.CalcChi3n(x) #float\n",
    "d.CalcChi3v(x) #float\n",
    "d.CalcChi4n(x) #float\n",
    "d.CalcChi4v(x) #float\n",
    "d.CalcCrippenDescriptors(x) #2-tuple\n",
    "d.CalcExactMolWt(x) #float\n",
    "d.CalcFractionCSP3(x) #float\n",
    "d.CalcHallKierAlpha(x) #float\n",
    "d.CalcKappa1(x) #float\n",
    "d.CalcKappa2(x) #float\n",
    "d.CalcKappa3(x) #float \n",
    "d.CalcLabuteASA(x) #float\n",
    "d.CalcNumAliphaticCarbocycles(x) #int\n",
    "d.CalcNumAliphaticHeterocycles(x) #int\n",
    "d.CalcNumAliphaticRings(x) #int\n",
    "d.CalcNumAmideBonds(x) #int\n",
    "d.CalcNumAromaticCarbocycles(x) #int\n",
    "d.CalcNumAromaticHeterocycles(x) #int\n",
    "d.CalcNumAromaticRings(x) #int\n",
    "d.CalcNumAtomStereoCenters(x) #int\n",
    "d.CalcNumBridgeheadAtoms(x) #int\n",
    "d.CalcNumHBA(x) #int\n",
    "d.CalcNumHBD(x) #int\n",
    "d.CalcNumHeteroatoms(x) #int\n",
    "d.CalcNumHeterocycles(x) #int\n",
    "d.CalcNumLipinskiHBA(x) #int\n",
    "d.CalcNumLipinskiHBD(x) #int\n",
    "d.CalcNumRings(x) #int\n",
    "d.CalcNumRotatableBonds(x) #int\n",
    "d.CalcNumSaturatedCarbocycles(x) #int\n",
    "d.CalcNumSaturatedHeterocycles(x) #int\n",
    "d.CalcNumSaturatedRings(x) #int\n",
    "d.CalcNumSpiroAtoms(x) #int\n",
    "d.CalcNumUnspecifiedAtomStereoCenters(x) #int\n",
    "d.CalcTPSA(x) #float\n",
    "d.GetAtomPairFingerprint(x)#fingerprint\n",
    "d.GetConnectivityInvariants(x)#array\n",
    "d.GetFeatureInvariants(x) #array\n",
    "#d.GetHashedAtomPairFingerprint(x) #intsparseintvect\n",
    "d.GetHashedAtomPairFingerprintAsBitVect(x) #ExplicitBitVect\n",
    "#d.GetHashedTopologicalTorsionFingerprint(x) #LongSparseIntVect \n",
    "d.GetHashedTopologicalTorsionFingerprintAsBitVect(x) #ExplicitBitVect\n",
    "d.GetMACCSKeysFingerprint(x) #ExplicitBitVect \n",
    "d.GetMorganFingerprintAsBitVect(x,2,nBits=124) #ExplicitBitVect\n",
    "#d.GetTopologicalTorsionFingerprint(x) #LongSparseIntVect\n",
    "d.GetHashedTopologicalTorsionFingerprintAsBitVect(x)#ExplicitBitVect\n",
    "d.MQNs_(x) #array\n",
    "d.PEOE_VSA_(x) #array\n",
    "d.SMR_VSA_(x) #array\n",
    "d.SlogP_VSA_(x) #array"
   ]
  },
  {
   "cell_type": "code",
   "execution_count": 159,
   "metadata": {},
   "outputs": [
    {
     "data": {
      "text/plain": [
       "5"
      ]
     },
     "execution_count": 159,
     "metadata": {},
     "output_type": "execute_result"
    }
   ],
   "source": [
    "l.FractionCSP3(x) #float\n",
    "l.HeavyAtomCount(x) #int\n",
    "l.NHOHCount(x) #int\n",
    "l.NOCount(x) #int\n",
    "l.NumAliphaticCarbocycles(x) #int\n",
    "l.NumAliphaticHeterocycles(x) #int\n",
    "l.NumAliphaticRings(x) #int\n",
    "l.NumAromaticCarbocycles(x) #int\n",
    "l.NumAromaticHeterocycles(x) #int\n",
    "l.NumAromaticRings(x) #int\n",
    "l.NumHAcceptors(x) #int\n",
    "l.NumHDonors(x) #int\n",
    "l.NumHeteroatoms(x) #int\n",
    "l.NumRotatableBonds(x) #int\n",
    "l.NumSaturatedCarbocycles(x) #int\n",
    "l.NumSaturatedHeterocycles(x) #int\n",
    "l.NumSaturatedRings(x) #int\n",
    "l.RingCount(x) #int"
   ]
  },
  {
   "cell_type": "code",
   "execution_count": 181,
   "metadata": {},
   "outputs": [
    {
     "data": {
      "text/plain": [
       "0"
      ]
     },
     "execution_count": 181,
     "metadata": {},
     "output_type": "execute_result"
    }
   ],
   "source": [
    "f.fr_Al_COO(x) #int\n",
    "f.fr_Al_OH(x) #int\n",
    "f.fr_Al_OH_noTert(x) #int\n",
    "f.fr_ArN(x) #int\n",
    "f.fr_Ar_COO(x) #int\n",
    "f.fr_Ar_N(x)\n",
    "f.fr_Ar_NH(x)\n",
    "f.fr_Ar_OH(x)\n",
    "f.fr_COO(x)\n",
    "f.fr_COO2(x)\n",
    "f.fr_C_O(x)\n",
    "f.fr_C_O_noCOO(x)\n",
    "f.fr_C_S(x)\n",
    "f.fr_HOCCN(x)\n",
    "f.fr_Imine(x)\n",
    "f.fr_NH0(x)\n",
    "f.fr_NH1(x)\n",
    "f.fr_NH2(x)\n",
    "f.fr_N_O(x)\n",
    "f.fr_Ndealkylation1(x)\n",
    "f.fr_Ndealkylation2(x)\n",
    "f.fr_Nhpyrrole(x)\n",
    "f.fr_SH(x)\n",
    "f.fr_aldehyde(x)\n",
    "f.fr_alkyl_carbamate(x)\n",
    "f.fr_alkyl_halide(x)\n",
    "f.fr_allylic_oxid(x)\n",
    "f.fr_amide(x)\n",
    "f.fr_amidine(x)\n",
    "f.fr_aniline(x)\n",
    "f.fr_aryl_methyl(x)\n",
    "f.fr_azide(x)\n",
    "f.fr_azo(x)\n",
    "f.fr_barbitur(x)\n",
    "f.fr_benzene(x)\n",
    "f.fr_benzodiazepine(x)\n",
    "f.fr_bicyclic(x)\n",
    "f.fr_diazo(x)\n",
    "f.fr_dihydropyridine(x)\n",
    "f.fr_epoxide(x)\n",
    "f.fr_ester(x)\n",
    "f.fr_ether(x)\n",
    "f.fr_furan(x)\n",
    "f.fr_guanido(x)\n",
    "f.fr_halogen(x)\n",
    "f.fr_hdrzine(x)\n",
    "f.fr_hdrzone(x)\n",
    "f.fr_imidazole(x)\n",
    "f.fr_imide(x)\n",
    "f.fr_isocyan(x)\n",
    "f.fr_isothiocyan(x)\n",
    "f.fr_ketone(x)\n",
    "f.fr_ketone_Topliss(x)\n",
    "f.fr_lactam(x)\n",
    "f.fr_lactone(x)\n",
    "f.fr_methoxy(x)\n",
    "f.fr_morpholine(x)\n",
    "f.fr_nitrile(x)\n",
    "f.fr_nitro(x)\n",
    "f.fr_nitro_arom(x)\n",
    "f.fr_nitro_arom_nonortho(x)\n",
    "f.fr_nitroso(x)\n",
    "f.fr_oxazole(x)\n",
    "f.fr_oxime(x)\n",
    "f.fr_para_hydroxylation(x)\n",
    "f.fr_phenol(x)\n",
    "f.fr_phenol_noOrthoHbond(x)\n",
    "f.fr_phos_acid(x)\n",
    "f.fr_phos_ester(x)\n",
    "f.fr_piperdine(x)\n",
    "f.fr_piperzine(x)\n",
    "f.fr_priamide(x)\n",
    "f.fr_prisulfonamd(x)\n",
    "f.fr_pyridine(x)\n",
    "f.fr_quatN(x)\n",
    "f.fr_sulfide(x)\n",
    "f.fr_sulfonamd(x)\n",
    "f.fr_sulfone(x)\n",
    "f.fr_term_acetylene(x)\n",
    "f.fr_tetrazole(x)\n",
    "f.fr_thiazole(x)\n",
    "f.fr_thiocyan(x)\n",
    "f.fr_thiophene(x)\n",
    "f.fr_unbrch_alkane(x)\n",
    "f.fr_urea(x)"
   ]
  },
  {
   "cell_type": "code",
   "execution_count": 230,
   "metadata": {},
   "outputs": [
    {
     "data": {
      "text/plain": [
       "102"
      ]
     },
     "execution_count": 230,
     "metadata": {},
     "output_type": "execute_result"
    }
   ],
   "source": [
    "des.ExactMolWt(x) #float\n",
    "des.FpDensityMorgan1(x) #float\n",
    "des.FpDensityMorgan2(x) #float\n",
    "des.FpDensityMorgan3(x) #float\n",
    "des.HeavyAtomMolWt(x) #float\n",
    "des.MaxAbsPartialCharge(x) #float\n",
    "des.MaxPartialCharge(x) #float\n",
    "des.MinAbsPartialCharge(x) #float\n",
    "des.MinPartialCharge(x) #float\n",
    "des.MolWt(x) #float\n",
    "des.NumRadicalElectrons(x) #int\n",
    "des.NumValenceElectrons(x) #int"
   ]
  },
  {
   "cell_type": "code",
   "execution_count": 228,
   "metadata": {},
   "outputs": [
    {
     "data": {
      "text/plain": [
       "63.71620000000003"
      ]
     },
     "execution_count": 228,
     "metadata": {},
     "output_type": "execute_result"
    }
   ],
   "source": [
    "crip.MolLogP(x) #float\n",
    "crip.MolMR(x) #float"
   ]
  },
  {
   "cell_type": "code",
   "execution_count": 241,
   "metadata": {},
   "outputs": [
    {
     "data": {
      "text/plain": [
       "2.122252460086311"
      ]
     },
     "execution_count": 241,
     "metadata": {},
     "output_type": "execute_result"
    }
   ],
   "source": [
    "gdes.BalabanJ(x) #float\n",
    "gdes.BertzCT(x) #float\n",
    "gdes.HallKierAlpha(x) #float\n",
    "gdes.Ipc(x) #float\n",
    "gdes.Kappa1(x) #float\n",
    "gdes.Kappa2(x) #float\n",
    "gdes.Kappa3(x) #float"
   ]
  },
  {
   "cell_type": "code",
   "execution_count": 252,
   "metadata": {},
   "outputs": [
    {
     "data": {
      "text/plain": [
       "0.6025005852671669"
      ]
     },
     "execution_count": 252,
     "metadata": {},
     "output_type": "execute_result"
    }
   ],
   "source": [
    "#q.ads(x)\n",
    "q.default(x) #float\n",
    "q.properties(x) #array\n",
    "q.qed(x) #float\n",
    "q.weights_max(x) #float\n",
    "q.weights_mean(x) #float\n",
    "q.weights_none(x) #float"
   ]
  },
  {
   "cell_type": "code",
   "execution_count": null,
   "metadata": {},
   "outputs": [],
   "source": []
  },
  {
   "cell_type": "code",
   "execution_count": 233,
   "metadata": {},
   "outputs": [],
   "source": [
    "def preprocessing(df):\n",
    "    PandasTools.AddMoleculeColumnToFrame(df, smilesCol='SMILES', molCol='MOLECULE')\n",
    "    funclst = [d.CalcChi0n, d.CalcChi0v, d.CalcChi1n, d.CalcChi1v, d.CalcChi2n, d.CalcChi2v, d.CalcChi3n, d.CalcChi3v, d.CalcChi4n, d.CalcChi4v, d.CalcExactMolWt, d.CalcFractionCSP3, d.CalcHallKierAlpha, d.CalcKappa1, d.CalcKappa2, d.CalcKappa3, d.CalcLabuteASA, d.CalcNumAliphaticCarbocycles, d.CalcNumAliphaticHeterocycles, d.CalcNumAliphaticRings, d.CalcNumAmideBonds, d.CalcNumAromaticCarbocycles, d.CalcNumAromaticHeterocycles, d.CalcNumAromaticRings, d.CalcNumAtomStereoCenters, d.CalcNumBridgeheadAtoms, d.CalcNumHBA, d.CalcNumHBD, d.CalcNumHeteroatoms, d.CalcNumHeterocycles, d.CalcNumLipinskiHBA, d.CalcNumLipinskiHBD, d.CalcNumRings, d.CalcNumRotatableBonds, d.CalcNumSaturatedCarbocycles, d.CalcNumSaturatedHeterocycles, d.CalcNumSaturatedRings, d.CalcNumSpiroAtoms, d.CalcNumUnspecifiedAtomStereoCenters, d.CalcTPSA, l.FractionCSP3, l.HeavyAtomCount, l.NHOHCount, l.NOCount, l.NumAliphaticCarbocycles, l.NumAliphaticHeterocycles, l.NumAliphaticRings, l.NumAromaticCarbocycles, l.NumAromaticHeterocycles, l.NumAromaticRings, l.NumHAcceptors, l.NumHDonors, l.NumHeteroatoms, l.NumRotatableBonds, l.NumSaturatedCarbocycles, l.NumSaturatedHeterocycles, l.NumSaturatedRings, l.RingCount, f.fr_Al_COO, f.fr_Al_OH, f.fr_Al_OH_noTert, f.fr_ArN, f.fr_Ar_COO, f.fr_Ar_N, f.fr_Ar_NH, f.fr_Ar_OH, f.fr_COO, f.fr_COO2, f.fr_C_O, f.fr_C_O_noCOO, f.fr_C_S, f.fr_HOCCN, f.fr_Imine, f.fr_NH0, f.fr_NH1, f.fr_NH2, f.fr_N_O, f.fr_Ndealkylation1, f.fr_Ndealkylation2, f.fr_Nhpyrrole, f.fr_SH, f.fr_aldehyde, f.fr_alkyl_carbamate, f.fr_alkyl_halide, f.fr_allylic_oxid, f.fr_amide, f.fr_amidine, f.fr_aniline, f.fr_aryl_methyl, f.fr_azide, f.fr_azo, f.fr_barbitur, f.fr_benzene, f.fr_benzodiazepine, f.fr_bicyclic, f.fr_diazo, f.fr_dihydropyridine, f.fr_epoxide, f.fr_ester, f.fr_ether, f.fr_furan, f.fr_guanido, f.fr_halogen, f.fr_hdrzine, f.fr_hdrzone, f.fr_imidazole, f.fr_imide, f.fr_isocyan, f.fr_isothiocyan, f.fr_ketone, f.fr_ketone_Topliss, f.fr_lactam, f.fr_lactone, f.fr_methoxy, f.fr_morpholine, f.fr_nitrile, f.fr_nitro, f.fr_nitro_arom, f.fr_nitro_arom_nonortho, f.fr_nitroso, f.fr_oxazole, f.fr_oxime, f.fr_para_hydroxylation, f.fr_phenol, f.fr_phenol_noOrthoHbond, f.fr_phos_acid, f.fr_phos_ester, f.fr_piperdine, f.fr_piperzine, f.fr_priamide, f.fr_prisulfonamd, f.fr_pyridine, f.fr_quatN, f.fr_sulfide, f.fr_sulfonamd, f.fr_sulfone, f.fr_term_acetylene, f.fr_tetrazole, f.fr_thiazole, f.fr_thiocyan, f.fr_thiophene, f.fr_unbrch_alkane, f.fr_urea, des.ExactMolWt, des.FpDensityMorgan1, des.FpDensityMorgan2, des.FpDensityMorgan3, des.HeavyAtomMolWt, des.MaxAbsPartialCharge, des.MaxPartialCharge, des.MinAbsPartialCharge, des.MinPartialCharge, des.MolWt, des.NumRadicalElectrons, des.NumValenceElectrons, crip.MolLogP, crip.MolMR, gdes.BalabanJ, gdes.BertzCT, gdes.HallKierAlpha, gdes.Ipc, gdes.Kappa1, gdes.Kappa2, gdes.Kappa3, q.default, q.qed, q.weights_max, q.weights_mean, q.weights_none]\n",
    "    for i in funclst:\n",
    "        df[i.__name__] = df['MOLECULE'].apply(lambda x: i(x))\n",
    "    return(df)"
   ]
  },
  {
   "cell_type": "code",
   "execution_count": 234,
   "metadata": {},
   "outputs": [
    {
     "name": "stdout",
     "output_type": "stream",
     "text": [
      "Index(['INDEX', 'SMILES', 'ACTIVE', 'MOLECULE', 'CalcChi0n', 'CalcChi0v'], dtype='object')\n"
     ]
    }
   ],
   "source": [
    "train_df = pd.read_csv(\"training_smiles.csv\")\n",
    "newdf = preprocessing(train_df)\n",
    "print(newdf.columns)"
   ]
  },
  {
   "cell_type": "code",
   "execution_count": 214,
   "metadata": {},
   "outputs": [
    {
     "name": "stdout",
     "output_type": "stream",
     "text": [
      "       INDEX                                             SMILES  ACTIVE  \\\n",
      "0          1  Cl.O=C1C(CN(CC2:C:C:C:C:C:2)CC2:C:C:C:C:C:2)CC...       0   \n",
      "1          2      CCOC(=O)C1OC2:C:C:C([N+](=O)[O-]):C:C:2C1(C)O       0   \n",
      "2          3  COC1:C:C:C:C2:C:1OC1(N3CCOCC3)CCCCC1C2C[N+](=O...       0   \n",
      "3          4  CC1:C:C:C(S(=O)(=O)NC(=O)NCCSSCCNC(=O)NS(=O)(=...       0   \n",
      "4          5        COC1:C:C:C:C:C:1NC(=S)NC=C1C(=O)NC(=O)NC1=O       0   \n",
      "...      ...                                                ...     ...   \n",
      "19120  19121          C1:C:C:C([Se]C2CCCCCCCCCCC23SCCCS3):C:C:1       0   \n",
      "19121  19122  C[N+]1(C)CC(=CC2:C:C:N:C:C:2)C(=O)C(=CC2:C:C:N...       0   \n",
      "19122  19123                                        COCC1OCCN1C       0   \n",
      "19123  19124  O=C(OC1CCN(CC2:C:C:C:C:C:2)C1)C(O)(C1:C:C:C:C:...       0   \n",
      "19124  19125  CC(C)CC(NC(=O)CN)C(=O)NC(C)C(=O)NC(C)C(=O)NC(C...       0   \n",
      "\n",
      "                                                MOLECULE  CalcChi0n  \n",
      "0      <img data-content=\"rdkit/molecule\" src=\"data:i...  23.276591  \n",
      "1      <img data-content=\"rdkit/molecule\" src=\"data:i...  10.452177  \n",
      "2      <img data-content=\"rdkit/molecule\" src=\"data:i...  15.186381  \n",
      "3      <img data-content=\"rdkit/molecule\" src=\"data:i...  18.529712  \n",
      "4      <img data-content=\"rdkit/molecule\" src=\"data:i...  11.427993  \n",
      "...                                                  ...        ...  \n",
      "19120  <img data-content=\"rdkit/molecule\" src=\"data:i...  14.881235  \n",
      "19121  <img data-content=\"rdkit/molecule\" src=\"data:i...  13.815570  \n",
      "19122  <img data-content=\"rdkit/molecule\" src=\"data:i...   5.962381  \n",
      "19123  <img data-content=\"rdkit/molecule\" src=\"data:i...  16.276955  \n",
      "19124  <img data-content=\"rdkit/molecule\" src=\"data:i...  20.136826  \n",
      "\n",
      "[19125 rows x 5 columns]\n"
     ]
    }
   ],
   "source": []
  },
  {
   "cell_type": "code",
   "execution_count": null,
   "metadata": {},
   "outputs": [],
   "source": []
  }
 ],
 "metadata": {
  "kernelspec": {
   "display_name": "Python [conda env:rdkit-env]",
   "language": "python",
   "name": "conda-env-rdkit-env-py"
  },
  "language_info": {
   "codemirror_mode": {
    "name": "ipython",
    "version": 3
   },
   "file_extension": ".py",
   "mimetype": "text/x-python",
   "name": "python",
   "nbconvert_exporter": "python",
   "pygments_lexer": "ipython3",
   "version": "3.7.5"
  }
 },
 "nbformat": 4,
 "nbformat_minor": 2
}
